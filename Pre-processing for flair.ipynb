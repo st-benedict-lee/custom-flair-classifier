{
 "cells": [
  {
   "cell_type": "code",
   "execution_count": 4,
   "metadata": {},
   "outputs": [
    {
     "name": "stdout",
     "output_type": "stream",
     "text": [
      "Collecting torch\n",
      "  Using cached torch-0.1.2.post2.tar.gz (128 kB)\n",
      "Requirement already satisfied: pyyaml in c:\\users\\intern01\\anaconda3\\lib\\site-packages (from torch) (5.3.1)\n",
      "Building wheels for collected packages: torch\n",
      "  Building wheel for torch (setup.py): started\n",
      "  Building wheel for torch (setup.py): finished with status 'error'\n",
      "  Running setup.py clean for torch\n",
      "Failed to build torch\n",
      "Installing collected packages: torch\n",
      "    Running setup.py install for torch: started\n",
      "    Running setup.py install for torch: finished with status 'error'"
     ]
    },
    {
     "name": "stderr",
     "output_type": "stream",
     "text": [
      "  ERROR: Command errored out with exit status 1:\n",
      "   command: 'C:\\Users\\intern01\\anaconda3\\python.exe' -u -c 'import sys, setuptools, tokenize; sys.argv[0] = '\"'\"'C:\\\\Users\\\\intern01\\\\AppData\\\\Local\\\\Temp\\\\pip-install-nx31_fsh\\\\torch\\\\setup.py'\"'\"'; __file__='\"'\"'C:\\\\Users\\\\intern01\\\\AppData\\\\Local\\\\Temp\\\\pip-install-nx31_fsh\\\\torch\\\\setup.py'\"'\"';f=getattr(tokenize, '\"'\"'open'\"'\"', open)(__file__);code=f.read().replace('\"'\"'\\r\\n'\"'\"', '\"'\"'\\n'\"'\"');f.close();exec(compile(code, __file__, '\"'\"'exec'\"'\"'))' bdist_wheel -d 'C:\\Users\\intern01\\AppData\\Local\\Temp\\pip-wheel-ynzds3e9'\n",
      "       cwd: C:\\Users\\intern01\\AppData\\Local\\Temp\\pip-install-nx31_fsh\\torch\\\n",
      "  Complete output (30 lines):\n",
      "  running bdist_wheel\n",
      "  running build\n",
      "  running build_deps\n",
      "  Traceback (most recent call last):\n",
      "    File \"<string>\", line 1, in <module>\n",
      "    File \"C:\\Users\\intern01\\AppData\\Local\\Temp\\pip-install-nx31_fsh\\torch\\setup.py\", line 225, in <module>\n",
      "      setup(name=\"torch\", version=\"0.1.2.post2\",\n",
      "    File \"C:\\Users\\intern01\\anaconda3\\lib\\site-packages\\setuptools\\__init__.py\", line 165, in setup\n"
     ]
    },
    {
     "name": "stdout",
     "output_type": "stream",
     "text": [
      "\n"
     ]
    },
    {
     "name": "stderr",
     "output_type": "stream",
     "text": [
      "      return distutils.core.setup(**attrs)\n",
      "    File \"C:\\Users\\intern01\\anaconda3\\lib\\distutils\\core.py\", line 148, in setup\n",
      "      dist.run_commands()\n",
      "    File \"C:\\Users\\intern01\\anaconda3\\lib\\distutils\\dist.py\", line 966, in run_commands\n",
      "      self.run_command(cmd)\n",
      "    File \"C:\\Users\\intern01\\anaconda3\\lib\\distutils\\dist.py\", line 985, in run_command\n",
      "      cmd_obj.run()\n",
      "    File \"C:\\Users\\intern01\\anaconda3\\lib\\site-packages\\wheel\\bdist_wheel.py\", line 223, in run\n",
      "      self.run_command('build')\n",
      "    File \"C:\\Users\\intern01\\anaconda3\\lib\\distutils\\cmd.py\", line 313, in run_command\n",
      "      self.distribution.run_command(command)\n",
      "    File \"C:\\Users\\intern01\\anaconda3\\lib\\distutils\\dist.py\", line 985, in run_command\n",
      "      cmd_obj.run()\n",
      "    File \"C:\\Users\\intern01\\anaconda3\\lib\\distutils\\command\\build.py\", line 135, in run\n",
      "      self.run_command(cmd_name)\n",
      "    File \"C:\\Users\\intern01\\anaconda3\\lib\\distutils\\cmd.py\", line 313, in run_command\n",
      "      self.distribution.run_command(command)\n",
      "    File \"C:\\Users\\intern01\\anaconda3\\lib\\distutils\\dist.py\", line 985, in run_command\n",
      "      cmd_obj.run()\n",
      "    File \"C:\\Users\\intern01\\AppData\\Local\\Temp\\pip-install-nx31_fsh\\torch\\setup.py\", line 51, in run\n",
      "      from tools.nnwrap import generate_wrappers as generate_nn_wrappers\n",
      "  ModuleNotFoundError: No module named 'tools.nnwrap'\n",
      "  ----------------------------------------\n",
      "  ERROR: Failed building wheel for torch\n",
      "  ERROR: Command errored out with exit status 1:\n",
      "   command: 'C:\\Users\\intern01\\anaconda3\\python.exe' -u -c 'import sys, setuptools, tokenize; sys.argv[0] = '\"'\"'C:\\\\Users\\\\intern01\\\\AppData\\\\Local\\\\Temp\\\\pip-install-nx31_fsh\\\\torch\\\\setup.py'\"'\"'; __file__='\"'\"'C:\\\\Users\\\\intern01\\\\AppData\\\\Local\\\\Temp\\\\pip-install-nx31_fsh\\\\torch\\\\setup.py'\"'\"';f=getattr(tokenize, '\"'\"'open'\"'\"', open)(__file__);code=f.read().replace('\"'\"'\\r\\n'\"'\"', '\"'\"'\\n'\"'\"');f.close();exec(compile(code, __file__, '\"'\"'exec'\"'\"'))' clean --all\n",
      "       cwd: C:\\Users\\intern01\\AppData\\Local\\Temp\\pip-install-nx31_fsh\\torch\n",
      "  Complete output (2 lines):\n",
      "  running clean\n",
      "  error: [Errno 2] No such file or directory: '.gitignore'\n",
      "  ----------------------------------------\n",
      "  ERROR: Failed cleaning build dir for torch\n",
      "    ERROR: Command errored out with exit status 1:\n",
      "     command: 'C:\\Users\\intern01\\anaconda3\\python.exe' -u -c 'import sys, setuptools, tokenize; sys.argv[0] = '\"'\"'C:\\\\Users\\\\intern01\\\\AppData\\\\Local\\\\Temp\\\\pip-install-nx31_fsh\\\\torch\\\\setup.py'\"'\"'; __file__='\"'\"'C:\\\\Users\\\\intern01\\\\AppData\\\\Local\\\\Temp\\\\pip-install-nx31_fsh\\\\torch\\\\setup.py'\"'\"';f=getattr(tokenize, '\"'\"'open'\"'\"', open)(__file__);code=f.read().replace('\"'\"'\\r\\n'\"'\"', '\"'\"'\\n'\"'\"');f.close();exec(compile(code, __file__, '\"'\"'exec'\"'\"'))' install --record 'C:\\Users\\intern01\\AppData\\Local\\Temp\\pip-record-zkuousbi\\install-record.txt' --single-version-externally-managed --compile --install-headers 'C:\\Users\\intern01\\anaconda3\\Include\\torch'\n",
      "         cwd: C:\\Users\\intern01\\AppData\\Local\\Temp\\pip-install-nx31_fsh\\torch\\\n",
      "    Complete output (23 lines):\n",
      "    running install\n",
      "    running build_deps\n",
      "    Traceback (most recent call last):\n",
      "      File \"<string>\", line 1, in <module>\n",
      "      File \"C:\\Users\\intern01\\AppData\\Local\\Temp\\pip-install-nx31_fsh\\torch\\setup.py\", line 225, in <module>\n",
      "        setup(name=\"torch\", version=\"0.1.2.post2\",\n",
      "      File \"C:\\Users\\intern01\\anaconda3\\lib\\site-packages\\setuptools\\__init__.py\", line 165, in setup\n",
      "        return distutils.core.setup(**attrs)\n",
      "      File \"C:\\Users\\intern01\\anaconda3\\lib\\distutils\\core.py\", line 148, in setup\n",
      "        dist.run_commands()\n",
      "      File \"C:\\Users\\intern01\\anaconda3\\lib\\distutils\\dist.py\", line 966, in run_commands\n",
      "        self.run_command(cmd)\n",
      "      File \"C:\\Users\\intern01\\anaconda3\\lib\\distutils\\dist.py\", line 985, in run_command\n",
      "        cmd_obj.run()\n",
      "      File \"C:\\Users\\intern01\\AppData\\Local\\Temp\\pip-install-nx31_fsh\\torch\\setup.py\", line 99, in run\n",
      "        self.run_command('build_deps')\n",
      "      File \"C:\\Users\\intern01\\anaconda3\\lib\\distutils\\cmd.py\", line 313, in run_command\n",
      "        self.distribution.run_command(command)\n",
      "      File \"C:\\Users\\intern01\\anaconda3\\lib\\distutils\\dist.py\", line 985, in run_command\n",
      "        cmd_obj.run()\n",
      "      File \"C:\\Users\\intern01\\AppData\\Local\\Temp\\pip-install-nx31_fsh\\torch\\setup.py\", line 51, in run\n",
      "        from tools.nnwrap import generate_wrappers as generate_nn_wrappers\n",
      "    ModuleNotFoundError: No module named 'tools.nnwrap'\n",
      "    ----------------------------------------\n",
      "ERROR: Command errored out with exit status 1: 'C:\\Users\\intern01\\anaconda3\\python.exe' -u -c 'import sys, setuptools, tokenize; sys.argv[0] = '\"'\"'C:\\\\Users\\\\intern01\\\\AppData\\\\Local\\\\Temp\\\\pip-install-nx31_fsh\\\\torch\\\\setup.py'\"'\"'; __file__='\"'\"'C:\\\\Users\\\\intern01\\\\AppData\\\\Local\\\\Temp\\\\pip-install-nx31_fsh\\\\torch\\\\setup.py'\"'\"';f=getattr(tokenize, '\"'\"'open'\"'\"', open)(__file__);code=f.read().replace('\"'\"'\\r\\n'\"'\"', '\"'\"'\\n'\"'\"');f.close();exec(compile(code, __file__, '\"'\"'exec'\"'\"'))' install --record 'C:\\Users\\intern01\\AppData\\Local\\Temp\\pip-record-zkuousbi\\install-record.txt' --single-version-externally-managed --compile --install-headers 'C:\\Users\\intern01\\anaconda3\\Include\\torch' Check the logs for full command output.\n"
     ]
    }
   ],
   "source": [
    "#!pip install torch"
   ]
  },
  {
   "cell_type": "code",
   "execution_count": 4,
   "metadata": {},
   "outputs": [],
   "source": [
    "import pandas as pd\n",
    "\n",
    "# Import the dataset of sentences\n",
    "corpus_NER = pd.read_csv (r'C:\\Users\\intern01\\Documents\\corpus_NER_1_1_clean.csv')"
   ]
  },
  {
   "cell_type": "code",
   "execution_count": 5,
   "metadata": {},
   "outputs": [
    {
     "name": "stdout",
     "output_type": "stream",
     "text": [
      "       Sentence #       Flair\n",
      "0               2     there O\n",
      "1               2       was O\n",
      "2               2      also O\n",
      "3               2     plant O\n",
      "4               2  material O\n",
      "...           ...         ...\n",
      "67126        5937      face O\n",
      "67127        5937       the O\n",
      "67128        5937     death O\n",
      "67129        5937   penalty O\n",
      "67130        5937         . O\n",
      "\n",
      "[67131 rows x 2 columns]\n"
     ]
    }
   ],
   "source": [
    "# Convert dataset into flair format\n",
    "corpus_NER = corpus_NER.drop(['Unnamed: 0'], axis=1)\n",
    "corpus_NER['Flair'] = corpus_NER['Word'].map(str) + \" \" + corpus_NER['Tag'].map(str)\n",
    "corpus_NER = corpus_NER.drop(['Word','POS','Tag'], axis=1)\n",
    "print(corpus_NER)"
   ]
  },
  {
   "cell_type": "code",
   "execution_count": 6,
   "metadata": {},
   "outputs": [
    {
     "name": "stdout",
     "output_type": "stream",
     "text": [
      "            Flair\n",
      "0         there O\n",
      "1           was O\n",
      "2          also O\n",
      "3         plant O\n",
      "4      material O\n",
      "...           ...\n",
      "56019   friends O\n",
      "56020        at O\n",
      "56021       the O\n",
      "56022      time O\n",
      "56023            \n",
      "\n",
      "[47358 rows x 1 columns]\n",
      "                      Flair\n",
      "0                     for O\n",
      "1      assaulting B-ASSAULT\n",
      "2                     his O\n",
      "3               then-wife O\n",
      "4                      in O\n",
      "...                     ...\n",
      "13648            shouting O\n",
      "13649                  at O\n",
      "13650                each O\n",
      "13651               other O\n",
      "13652                      \n",
      "\n",
      "[13653 rows x 1 columns]\n",
      "            Flair\n",
      "0           mdm O\n",
      "1      badariah O\n",
      "2         tried O\n",
      "3            to O\n",
      "4     intervene O\n",
      "...           ...\n",
      "6115       face O\n",
      "6116        the O\n",
      "6117      death O\n",
      "6118    penalty O\n",
      "6119             \n",
      "\n",
      "[6120 rows x 1 columns]\n"
     ]
    }
   ],
   "source": [
    "# Partition dataset into training, testing and validation data in a 7:2:1 ratio\n",
    "# Replaces full stops with spaces to conform to flair format\n",
    "\n",
    "flair_train = corpus_NER.drop(corpus_NER[corpus_NER[\"Sentence #\"] > 4200].index)\n",
    "flair_train.replace(\". O\", \" \",inplace=True)\n",
    "flair_train = flair_train.drop([\"Sentence #\"], axis=1)\n",
    "#print(flair_train)\n",
    "\n",
    "flair_test = corpus_NER.drop(corpus_NER[corpus_NER[\"Sentence #\"] < 4201].index)\n",
    "flair_test = flair_test.drop(flair_test[flair_test[\"Sentence #\"] > 5400].index)\n",
    "flair_test.replace(\". O\", \" \",inplace=True)\n",
    "flair_test = flair_test.drop([\"Sentence #\"], axis=1)\n",
    "flair_test = flair_test.reset_index()\n",
    "flair_test = flair_test.drop([\"index\"], axis=1)\n",
    "#print(flair_test)\n",
    "\n",
    "flair_dev = corpus_NER.drop(corpus_NER[corpus_NER[\"Sentence #\"] < 5401].index)\n",
    "flair_dev.replace(\". O\", \" \",inplace=True)\n",
    "flair_dev = flair_dev.drop([\"Sentence #\"], axis=1)\n",
    "flair_dev = flair_dev.reset_index()\n",
    "flair_dev = flair_dev.drop([\"index\"], axis=1)\n",
    "#print(flair_dev)\n",
    "              \n",
    "# Save training, testing and validation data as 3 separate files for use in flair   \n",
    "flair_train.to_csv(r\"C:\\Users\\intern01\\Documents\\flair\\flair_train2.csv\", header=None, index=None)    \n",
    "flair_test.to_csv(r\"C:\\Users\\intern01\\Documents\\flair\\flair_test2.csv\", header=None, index=None)\n",
    "flair_dev.to_csv(r\"C:\\Users\\intern01\\Documents\\flair\\flair_dev2.csv\", header=None, index=None)"
   ]
  },
  {
   "cell_type": "code",
   "execution_count": null,
   "metadata": {},
   "outputs": [],
   "source": []
  }
 ],
 "metadata": {
  "kernelspec": {
   "display_name": "Python 3",
   "language": "python",
   "name": "python3"
  },
  "language_info": {
   "codemirror_mode": {
    "name": "ipython",
    "version": 3
   },
   "file_extension": ".py",
   "mimetype": "text/x-python",
   "name": "python",
   "nbconvert_exporter": "python",
   "pygments_lexer": "ipython3",
   "version": "3.8.3"
  }
 },
 "nbformat": 4,
 "nbformat_minor": 4
}
