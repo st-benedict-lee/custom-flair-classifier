{
 "cells": [
  {
   "cell_type": "code",
   "execution_count": null,
   "metadata": {
    "id": "PkW0s4lkJGAn"
   },
   "outputs": [],
   "source": [
    "# Install flair - an NLP package\n",
    "#!pip install flair"
   ]
  },
  {
   "cell_type": "code",
   "execution_count": null,
   "metadata": {
    "id": "H-4XuQqN7td_"
   },
   "outputs": [],
   "source": [
    "## NOTE: Before proceeding on Google Colab, convert csv files obtained from \n",
    "## 'Pre-Processing Flair' into .txt files and upload them onto Colab using\n",
    "## the left pane.\n",
    "\n",
    "#  Build a corpus using flair library\n",
    "from flair.data import Corpus\n",
    "from flair.datasets import ColumnCorpus\n",
    "\n",
    "# Define columns\n",
    "columns = {0 : 'text', 1 : 'ner'}\n",
    "\n",
    "# Indicate directory where the data resides\n",
    "data_folder = \"/content/\"\n",
    "\n",
    "# Initialize the corpus by loading training, testing and validation data\n",
    "corpus: Corpus = ColumnCorpus(data_folder, columns,train_file = 'flair_train2.txt',test_file = 'flair_test2.txt',dev_file = 'flair_dev2.txt')"
   ]
  },
  {
   "cell_type": "code",
   "execution_count": null,
   "metadata": {
    "id": "JoCqcGnn7yI2"
   },
   "outputs": [],
   "source": [
    "#print(corpus.train[55].to_tagged_string('ner'))\n",
    "#print(corpus.train[521].to_tagged_string('pos'))"
   ]
  },
  {
   "cell_type": "code",
   "execution_count": null,
   "metadata": {
    "id": "Nw52YAn2AonK"
   },
   "outputs": [],
   "source": [
    "# Inform flair which tag to predict\n",
    "tag_type = 'ner'\n",
    "\n",
    "# Create a tag dictionary from the corpus\n",
    "tag_dictionary = corpus.make_tag_dictionary(tag_type=tag_type)\n",
    "print(tag_dictionary)"
   ]
  },
  {
   "cell_type": "code",
   "execution_count": null,
   "metadata": {
    "id": "fDwGJ87ZJ5XN"
   },
   "outputs": [],
   "source": [
    "## Only run this if you intend to use ELMo embeddings\n",
    "\n",
    "#!pip install allennlp==0.9.0"
   ]
  },
  {
   "cell_type": "code",
   "execution_count": null,
   "metadata": {
    "id": "uECs27VRB2M3"
   },
   "outputs": [],
   "source": [
    "## Build stacked embeddings\n",
    "\n",
    "from flair.embeddings import WordEmbeddings, FlairEmbeddings, TransformerWordEmbeddings, ELMoEmbeddings\n",
    "\n",
    "# Init standard GloVe embedding\n",
    "glove_embedding = WordEmbeddings('glove')\n",
    "\n",
    "# Init BERT embedding\n",
    "bert_embedding = TransformerWordEmbeddings('bert-base-uncased')\n",
    "\n",
    "# Init ELMo embedding\n",
    "elmo_embedding = ELMoEmbeddings()\n",
    "\n",
    "# Init Flair forward and backwards embeddings\n",
    "flair_embedding_forward = FlairEmbeddings('news-forward')\n",
    "flair_embedding_backward = FlairEmbeddings('news-backward')"
   ]
  },
  {
   "cell_type": "code",
   "execution_count": null,
   "metadata": {
    "id": "umnBU8K5CGmv"
   },
   "outputs": [],
   "source": [
    "from flair.embeddings import StackedEmbeddings\n",
    "\n",
    "# Create a StackedEmbedding object that combines embeddings\n",
    "# Comment to enable/disable embeddings\n",
    "# Recommended embeddings: GloVe, ELMo, flair forward & backward\n",
    "\n",
    "embeddings : StackedEmbeddings = StackedEmbeddings([\n",
    "                                        glove_embedding,\n",
    "                                        #bert_embedding,\n",
    "                                        #elmo_embedding,\n",
    "                                        flair_embedding_forward,\n",
    "                                        flair_embedding_backward,\n",
    "                                       ])"
   ]
  },
  {
   "cell_type": "code",
   "execution_count": null,
   "metadata": {
    "id": "JgR0N6fFCgvP"
   },
   "outputs": [],
   "source": [
    "## Create a sequence tagging model\n",
    "\n",
    "%%time\n",
    "from flair.models import SequenceTagger\n",
    "tagger : SequenceTagger = SequenceTagger(hidden_size=256,\n",
    "                                       embeddings=embeddings,\n",
    "                                       tag_dictionary=tag_dictionary,\n",
    "                                       tag_type=tag_type,\n",
    "                                       use_crf=True)\n",
    "print(tagger)\n",
    "\n",
    "# Train the model until loss is minimized\n",
    "# Recommended learning rate = 0.1\n",
    "# Use smaller mini_batch_size if training is too slow\n",
    "\n",
    "from flair.trainers import ModelTrainer\n",
    "trainer : ModelTrainer = ModelTrainer(tagger, corpus)\n",
    "trainer.train('resources/taggers/example-ner',\n",
    "              learning_rate=0.1,\n",
    "              mini_batch_size=32,\n",
    "              max_epochs=150)"
   ]
  },
  {
   "cell_type": "code",
   "execution_count": null,
   "metadata": {
    "id": "Hxe78ldvM-QW"
   },
   "outputs": [],
   "source": [
    "# Load and test model\n",
    "\n",
    "from flair.data import Sentence\n",
    "from flair.models import SequenceTagger\n",
    "\n",
    "# Load the trained model\n",
    "model = SequenceTagger.load('/content/resources/taggers/example-ner/final-model.pt')\n",
    "\n",
    "# Create example sentence for qualitative evaluation\n",
    "sentence = Sentence('The boy kicked a blue ball at me out of the blue')\n",
    "\n",
    "# Check if the model predicted the tags\n",
    "model.predict(sentence)\n",
    "print(sentence.to_tagged_string())\n"
   ]
  },
  {
   "cell_type": "code",
   "execution_count": null,
   "metadata": {
    "id": "TAwC0Wl2ECzW"
   },
   "outputs": [],
   "source": [
    "# For longer sentences/articles to be displayed within the width of the window\n",
    "\n",
    "# create example sentence containing tags to predict\n",
    "sentence = Sentence('\"Orange. I think that because I’m really into colors, I’m attracted to the ones that make you feel happy. And orange is such a happy and warm color. I love every palette around the orange color and I love mixing it with green—that I’ve been wearing a lot for a while.\"')\n",
    "# predict the tags\n",
    "model.predict(sentence)\n",
    "#print(sentence.to_tagged_string())\n",
    "\n",
    "from IPython.display import HTML\n",
    "display(HTML('''\n",
    "<style>\n",
    "  pre {\n",
    "      white-space: normal;\n",
    "  }\n",
    "</style>\n",
    "'''))\n",
    "print(sentence.to_tagged_string())\n"
   ]
  }
 ],
 "metadata": {
  "accelerator": "GPU",
  "colab": {
   "collapsed_sections": [],
   "name": "Flair model.ipynb",
   "provenance": []
  },
  "kernelspec": {
   "display_name": "Python 3",
   "language": "python",
   "name": "python3"
  },
  "language_info": {
   "codemirror_mode": {
    "name": "ipython",
    "version": 3
   },
   "file_extension": ".py",
   "mimetype": "text/x-python",
   "name": "python",
   "nbconvert_exporter": "python",
   "pygments_lexer": "ipython3",
   "version": "3.8.3"
  }
 },
 "nbformat": 4,
 "nbformat_minor": 1
}
